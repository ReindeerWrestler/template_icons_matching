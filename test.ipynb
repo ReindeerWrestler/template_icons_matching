{
 "cells": [
  {
   "cell_type": "code",
   "execution_count": 58,
   "metadata": {
    "collapsed": true,
    "pycharm": {
     "name": "#%%\n"
    }
   },
   "outputs": [],
   "source": [
    "from pdf2image import convert_from_path\n",
    "import cv2\n",
    "import numpy as np\n",
    "import matplotlib.pyplot as plt\n",
    "import imutils\n",
    "\n"
   ]
  },
  {
   "cell_type": "code",
   "execution_count": 59,
   "outputs": [
    {
     "name": "stdout",
     "output_type": "stream",
     "text": [
      "4\n"
     ]
    }
   ],
   "source": [
    "pdf_pages = convert_from_path(\"pdfs/Consulting agreement.pdf\")\n",
    "page_count = len(pdf_pages)\n",
    "pdf_images = []\n",
    "print(page_count)\n",
    "\n",
    "for page in pdf_pages:\n",
    "    pdf_images.append(np.array(page))"
   ],
   "metadata": {
    "collapsed": false,
    "pycharm": {
     "name": "#%%\n"
    }
   }
  },
  {
   "cell_type": "markdown",
   "source": [
    "Load in template and change it to a grayscale\n",
    "\n",
    "The code below currently misses correctly identifying the template. Likely die to a scale miss match."
   ],
   "metadata": {
    "collapsed": false,
    "pycharm": {
     "name": "#%% md\n"
    }
   }
  },
  {
   "cell_type": "code",
   "execution_count": 60,
   "outputs": [],
   "source": [
    "template = cv2.imread(\"templates/lotus.png\")\n",
    "\n",
    "template_gray = cv2.cvtColor(template, cv2.COLOR_BGRA2GRAY)\n",
    "\n",
    "(tH, tW) = template_gray.shape[:2]\n",
    "\n"
   ],
   "metadata": {
    "collapsed": false,
    "pycharm": {
     "name": "#%%\n"
    }
   }
  },
  {
   "cell_type": "markdown",
   "source": [
    "loop through each of the pdf pages and look for the template"
   ],
   "metadata": {
    "collapsed": false,
    "pycharm": {
     "name": "#%% md\n"
    }
   }
  },
  {
   "cell_type": "code",
   "execution_count": 61,
   "outputs": [],
   "source": [
    "\n",
    "found = None\n",
    "page_count = 1\n",
    "\n",
    "template_results = []\n",
    "\n",
    "for page in pdf_images:\n",
    "    gray_page = cv2.cvtColor(page, cv2.COLOR_BGRA2GRAY)\n",
    "\n",
    "    for scale in np.linspace(0.2, 1.0, 20)[::-1]:  # start from 100% of the original size of the image and work our way down to 20% of the original size in 20 equally sized percent chunks\n",
    "        resized_im = imutils.resize(gray_page, width = int(gray_page.shape[1] * scale))\n",
    "        resizing_ratio = gray_page.shape[1] / float(resized_im.shape[1])  # ratio of the resizing\n",
    "\n",
    "        if resized_im.shape[0] < tH or resized_im.shape[1] < tW:  # break if smaller than template\n",
    "            break\n",
    "\n",
    "        result = cv2.matchTemplate(resized_im, template_gray, cv2.TM_CCOEFF_NORMED)\n",
    "        # max val is what I need to use as a threshold to see if correct id\n",
    "        # (minVal, maxVal, minLoc, maxLoc) = cv2.minMaxLoc(result)\n",
    "\n",
    "        (minVal, maxVal, minLoc, maxLoc)  = cv2.minMaxLoc(result)\n",
    "\n",
    "        if found is None or maxVal > found[0]:\n",
    "            found = (maxVal, maxLoc, resizing_ratio)\n",
    "\n",
    "    template_results.append([page_count, found])\n",
    "    found = None\n",
    "    page_count += 1\n",
    "\n"
   ],
   "metadata": {
    "collapsed": false,
    "pycharm": {
     "name": "#%%\n"
    }
   }
  },
  {
   "cell_type": "code",
   "execution_count": 62,
   "outputs": [],
   "source": [
    "(_, maxLoc, resizing_ratio) = found = template_results[0][1]\n",
    "(startX, startY) = (int(maxLoc[0] * resizing_ratio), int(maxLoc[1] * resizing_ratio))\n",
    "(endX, endY) = (int((maxLoc[0] + tW) * resizing_ratio), int((maxLoc[1] + tH) * resizing_ratio))\n",
    "\n"
   ],
   "metadata": {
    "collapsed": false,
    "pycharm": {
     "name": "#%%\n"
    }
   }
  },
  {
   "cell_type": "code",
   "execution_count": 63,
   "outputs": [
    {
     "data": {
      "text/plain": "<matplotlib.image.AxesImage at 0x7f3ae091c790>"
     },
     "execution_count": 63,
     "metadata": {},
     "output_type": "execute_result"
    },
    {
     "data": {
      "text/plain": "<Figure size 432x288 with 1 Axes>",
      "image/png": "[encoded data removed]"
     },
     "metadata": {
      "needs_background": "light"
     },
     "output_type": "display_data"
    }
   ],
   "source": [
    "cv2.rectangle(pdf_images[0], (startX, startY), (endX, endY), (255, 0, 0), 3);\n",
    "plt.imshow(pdf_images[0])"
   ],
   "metadata": {
    "collapsed": false,
    "pycharm": {
     "name": "#%%\n"
    }
   }
  },
  {
   "cell_type": "code",
   "execution_count": 64,
   "outputs": [
    {
     "data": {
      "text/plain": "[[1, (0.9739762544631958, (318, 205), 2.210663198959688)],\n [2, (0.22688105702400208, (436, 944), 1.2031139419674453)],\n [3, (0.3514955937862396, (101, 1907), 1.0)],\n [4, (0.2377021312713623, (281, 313), 1.0925449871465296)]]"
     },
     "execution_count": 64,
     "metadata": {},
     "output_type": "execute_result"
    }
   ],
   "source": [
    "template_results\n",
    "# cv2.imshow(\"im\", pdf_images[1])\n",
    "# cv2.imshow(\"Template\", template)\n",
    "# cv2.waitKey(0)"
   ],
   "metadata": {
    "collapsed": false,
    "pycharm": {
     "name": "#%%\n"
    }
   }
  }
 ],
 "metadata": {
  "kernelspec": {
   "display_name": "Python 3",
   "language": "python",
   "name": "python3"
  },
  "language_info": {
   "codemirror_mode": {
    "name": "ipython",
    "version": 2
   },
   "file_extension": ".py",
   "mimetype": "text/x-python",
   "name": "python",
   "nbconvert_exporter": "python",
   "pygments_lexer": "ipython2",
   "version": "2.7.6"
  }
 },
 "nbformat": 4,
 "nbformat_minor": 0
}